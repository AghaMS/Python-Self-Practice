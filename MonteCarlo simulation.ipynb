{
 "cells": [
  {
   "cell_type": "markdown",
   "metadata": {},
   "source": [
    "# MonteCarlo simulation"
   ]
  },
  {
   "cell_type": "markdown",
   "metadata": {},
   "source": [
    " To calculate the integral \n",
    " \n",
    " Integrate_{-2, 3} {abs(x) * np.exp(-x]**4).dx} "
   ]
  },
  {
   "cell_type": "code",
   "execution_count": 19,
   "metadata": {},
   "outputs": [],
   "source": [
    "import numpy as np\n",
    "import pandas as pd"
   ]
  },
  {
   "cell_type": "code",
   "execution_count": 20,
   "metadata": {},
   "outputs": [],
   "source": [
    "X = []\n",
    "\n",
    "for i in range(10000):\n",
    "    x = np.random.uniform(-2, 3)\n",
    "    X.append(x)\n",
    "    "
   ]
  },
  {
   "cell_type": "code",
   "execution_count": 22,
   "metadata": {},
   "outputs": [
    {
     "name": "stdout",
     "output_type": "stream",
     "text": [
      "0.8704857331262928\n",
      "0.0031920682679956185\n"
     ]
    }
   ],
   "source": [
    "H = []\n",
    "\n",
    "for i in range(10000):\n",
    "    h = 5 * abs(X[i]) * np.exp(-X[i]**4)\n",
    "    H.append(h)\n",
    "\n",
    "# Mean\n",
    "J_hat = np.mean(H)\n",
    "print(J_hat)\n",
    "\n",
    "# Standard error\n",
    "SE = np.sqrt(np.var(H)/100000)\n",
    "print(SE)"
   ]
  }
 ],
 "metadata": {
  "kernelspec": {
   "display_name": "Python 3",
   "language": "python",
   "name": "python3"
  },
  "language_info": {
   "codemirror_mode": {
    "name": "ipython",
    "version": 3
   },
   "file_extension": ".py",
   "mimetype": "text/x-python",
   "name": "python",
   "nbconvert_exporter": "python",
   "pygments_lexer": "ipython3",
   "version": "3.7.6"
  }
 },
 "nbformat": 4,
 "nbformat_minor": 4
}
