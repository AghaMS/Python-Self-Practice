{
 "cells": [
  {
   "cell_type": "markdown",
   "metadata": {},
   "source": [
    "This function initializes parameters of a L-layers NN"
   ]
  },
  {
   "cell_type": "code",
   "execution_count": 2,
   "metadata": {},
   "outputs": [],
   "source": [
    "def DeepNN_initialize(layer_dims):\n",
    "    \"\"\"\n",
    "    This function initializes the weights and biases of a NN with more than one deep layer\n",
    "    \n",
    "    arguments:\n",
    "        layer_dims: array with the number of hidden layers and their sizes\n",
    "        \n",
    "    returns:\n",
    "        Python dictionary of initialized parameters (W1, b1, ....., WL, bL)\n",
    "        Wl: weights matrix of layer l --- dimension (layer_dims[l], layer_dims[l-1])\n",
    "        bl: biases array of layer l --- dimension (layer_dims[l], 1)\n",
    "    \"\"\"\n",
    "    \n",
    "    # To ensure reproducibility of results in several trials\n",
    "    np.random.seed(1)\n",
    "    \n",
    "    # Empty dictionary to contain the intialized parameters\n",
    "    parameters = {}\n",
    "    \n",
    "    # No. of layers in our NN\n",
    "    L = len(layer_dims)\n",
    "    \n",
    "    for l in range(1,L):\n",
    "        parameters['W'+str(l)] = np.random.randn(layer_dims[l], layer_dims[l-1]) * 0.01\n",
    "        parameters['b'+str(l)] = np.zeros(shape = (layer_dims[l], 1))\n",
    "    \n",
    "    \n",
    "    assert(parameters[ 'W'+str(l) ].shape == (layer_dims[l], layer_dims[l-1]))\n",
    "    assert(parameters[ 'b'+str(l) ].shape == (layer_dims[l], 1))\n",
    "    \n",
    "    return parameters"
   ]
  },
  {
   "cell_type": "code",
   "execution_count": null,
   "metadata": {},
   "outputs": [],
   "source": []
  }
 ],
 "metadata": {
  "kernelspec": {
   "display_name": "Python 3",
   "language": "python",
   "name": "python3"
  },
  "language_info": {
   "codemirror_mode": {
    "name": "ipython",
    "version": 3
   },
   "file_extension": ".py",
   "mimetype": "text/x-python",
   "name": "python",
   "nbconvert_exporter": "python",
   "pygments_lexer": "ipython3",
   "version": "3.7.6"
  }
 },
 "nbformat": 4,
 "nbformat_minor": 4
}
