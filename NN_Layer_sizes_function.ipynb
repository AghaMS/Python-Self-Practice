{
 "cells": [
  {
   "cell_type": "markdown",
   "metadata": {},
   "source": [
    "A function to set the sizes of the NN layers"
   ]
  },
  {
   "cell_type": "code",
   "execution_count": 1,
   "metadata": {},
   "outputs": [],
   "source": [
    "def layer_sizes(X, Y, a):\n",
    "    \"\"\"\n",
    "    This function sets up the sizes of the NN layers\n",
    "    \n",
    "    \n",
    "    Arguments:\n",
    "        X: array with training examples of the shape (input size, # of examples); input size is the # of features\n",
    "        Y: label of the training examples with the shape ()\n",
    "        a: predetermined integer to indicate the number of hidden units \n",
    "        \n",
    "    Returns:\n",
    "        n_x: size of the input layer\n",
    "        n_h: size of the hidden layer\n",
    "        n_y: size of the output layer\n",
    "        \n",
    "    \"\"\"\n",
    "    n_x = X.shape[0]\n",
    "    n_h = a\n",
    "    n_y = Y.shape[0]\n",
    "    \n",
    "    return(n_x, n_h, n_y)"
   ]
  },
  {
   "cell_type": "code",
   "execution_count": null,
   "metadata": {},
   "outputs": [],
   "source": [
    " "
   ]
  }
 ],
 "metadata": {
  "kernelspec": {
   "display_name": "Python 3",
   "language": "python",
   "name": "python3"
  },
  "language_info": {
   "codemirror_mode": {
    "name": "ipython",
    "version": 3
   },
   "file_extension": ".py",
   "mimetype": "text/x-python",
   "name": "python",
   "nbconvert_exporter": "python",
   "pygments_lexer": "ipython3",
   "version": "3.7.6"
  }
 },
 "nbformat": 4,
 "nbformat_minor": 4
}
