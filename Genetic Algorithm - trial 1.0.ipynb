{
 "cells": [
  {
   "cell_type": "markdown",
   "metadata": {},
   "source": [
    "# Genetic algorithm"
   ]
  },
  {
   "cell_type": "markdown",
   "metadata": {},
   "source": [
    "**Coded by: Mohammed Alagha, 2020**\n",
    "\n",
    "Glasgow, UK\n",
    "\n",
    "Original code structure is adopted from **Optimization with Metaheuristics in Python - Course on Udemy**. Some modifications were made to speed up and automate some code chunks."
   ]
  },
  {
   "cell_type": "code",
   "execution_count": 50,
   "metadata": {},
   "outputs": [],
   "source": [
    "# Importing relevant libraries\n",
    "\n",
    "import numpy as np\n",
    "import pandas as pd\n",
    "import matplotlib.pyplot as plt\n",
    "import time as time\n",
    "import random"
   ]
  },
  {
   "cell_type": "markdown",
   "metadata": {},
   "source": [
    "# Initial conditions"
   ]
  },
  {
   "cell_type": "markdown",
   "metadata": {},
   "source": [
    "**Parameters & Hyper-parameters intialization**\n",
    "\n",
    "User-determined values"
   ]
  },
  {
   "cell_type": "code",
   "execution_count": 36,
   "metadata": {},
   "outputs": [],
   "source": [
    "np.random.seed(1)\n",
    "\n",
    "# Crossover probability\n",
    "prob_crsvr = 1\n",
    "\n",
    "# Mutation probability\n",
    "prob_mutation = 0.3 \n",
    "\n",
    "# Population size\n",
    "population = 120 \n",
    "\n",
    "# Generations size\n",
    "generations = 80 "
   ]
  },
  {
   "cell_type": "code",
   "execution_count": 74,
   "metadata": {},
   "outputs": [],
   "source": [
    "def pop_initialize(num_var, num_genes):\n",
    "    \"\"\"\n",
    "    This function creates the initial population for the GA\n",
    "    \n",
    "    Arguments:\n",
    "        num_var -- Number of variables to be initialized\n",
    "      num_genes -- Length of each genome encoding\n",
    "      \n",
    "    returns:\n",
    "    pool_of_solutions: an np array containing the initial population (size = (population, chromosomes))\n",
    "    \"\"\"\n",
    "    \n",
    "    arr_size = num_var * num_genes\n",
    "    var_string = np.array(np.random.choice([0, 1], size=(arr_size,)))\n",
    "    pool_of_solutions = np.empty((0,len(var_string)))\n",
    "    \n",
    "    for i in range(population):\n",
    "        random.shuffle(var_string)\n",
    "        pool_of_solutions = np.vstack((pool_of_solutions,var_string))\n",
    "        \n",
    "    return pool_of_solutions"
   ]
  },
  {
   "cell_type": "code",
   "execution_count": null,
   "metadata": {},
   "outputs": [],
   "source": []
  },
  {
   "cell_type": "code",
   "execution_count": null,
   "metadata": {},
   "outputs": [],
   "source": []
  }
 ],
 "metadata": {
  "kernelspec": {
   "display_name": "Python 3",
   "language": "python",
   "name": "python3"
  },
  "language_info": {
   "codemirror_mode": {
    "name": "ipython",
    "version": 3
   },
   "file_extension": ".py",
   "mimetype": "text/x-python",
   "name": "python",
   "nbconvert_exporter": "python",
   "pygments_lexer": "ipython3",
   "version": "3.7.6"
  }
 },
 "nbformat": 4,
 "nbformat_minor": 4
}
