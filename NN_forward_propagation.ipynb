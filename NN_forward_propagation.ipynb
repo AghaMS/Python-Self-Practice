{
 "cells": [
  {
   "cell_type": "markdown",
   "metadata": {},
   "source": [
    " Third Function: Forward propagation"
   ]
  },
  {
   "cell_type": "code",
   "execution_count": null,
   "metadata": {},
   "outputs": [],
   "source": [
    "def forward_propagation(X, Parameters):\n",
    "    '''\n",
    "    This function handles the forward propagation calculations for the NN\n",
    "    \n",
    "    arguments:\n",
    "        X: array of training examples of the shape (input size, # of example)\n",
    "        Parameters: Python dictionary with the intialized parameters\n",
    "        \n",
    "    returns:\n",
    "        A2: output of the second activation function\n",
    "        cache: Dictionary containing \"Z1\", \"A1\", \"Z2\", \"A2\"\n",
    "    \n",
    "    '''\n",
    "    \n",
    "    W1 = Parameters[\"W1\"]\n",
    "    b1 = Parameters[\"b1\"]\n",
    "    W2 = Parameters[\"W2\"]\n",
    "    b2 = Parameters[\"b2\"]\n",
    "    \n",
    "    # forward propagation\n",
    "    Z1 = np.dot(W1, X) + b1\n",
    "    A1 = np.tanh(Z1)\n",
    "    Z2 = np.dot(W2, A1) + b2\n",
    "    A2 = 1 / (1 + np.exp(-Z2))\n",
    "    \n",
    "    assert A2.shape == (1, X.shape[1])\n",
    "    \n",
    "    cache: {\n",
    "            \"Z1\"\n",
    "    }\n",
    "    return A2, cache"
   ]
  }
 ],
 "metadata": {
  "kernelspec": {
   "display_name": "Python 3",
   "language": "python",
   "name": "python3"
  },
  "language_info": {
   "codemirror_mode": {
    "name": "ipython",
    "version": 3
   },
   "file_extension": ".py",
   "mimetype": "text/x-python",
   "name": "python",
   "nbconvert_exporter": "python",
   "pygments_lexer": "ipython3",
   "version": "3.7.6"
  }
 },
 "nbformat": 4,
 "nbformat_minor": 4
}
