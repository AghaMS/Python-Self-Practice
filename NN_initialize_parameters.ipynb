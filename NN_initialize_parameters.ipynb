{
 "cells": [
  {
   "cell_type": "markdown",
   "metadata": {},
   "source": [
    "This function intializes paramters of the NN"
   ]
  },
  {
   "cell_type": "code",
   "execution_count": null,
   "metadata": {},
   "outputs": [],
   "source": [
    "def initialize_parameters(n_x, n_h, n_y):\n",
    "    '''\n",
    "    This function intializes the parameters of the NN\n",
    "    \n",
    "    Arguments:\n",
    "        n_x: size of the input layer\n",
    "        n_h: size of the hidden layer\n",
    "        n_y: size of the output layer\n",
    "        \n",
    "    returns:\n",
    "        Parameters: Python dictionary containing the NN parameters:\n",
    "            W1: Weights matrix of shape (n_x, n_h)\n",
    "            b1: bias array of size (n_h, 1)\n",
    "            W2: Weights matrix of shape (n_y, n_h)\n",
    "            b2: bias array of size (n_y, 1)\n",
    "        '''\n",
    "    np.random.seed(2)\n",
    "    \n",
    "    W1 = np.random.randn(n_x, n_h) * 0.01\n",
    "    b1 = np.zeros((n_h, 1))\n",
    "    W2 = np.random.randn(n_y, n_h) * 0.01\n",
    "    b2 = np.zeros((n_y, 1))\n",
    "    \n",
    "    assert (W1.shape == (n_x, n_h))\n",
    "    assert (b1.shape == (n_h, 1))\n",
    "    assert (W2.shape == (n_y, n_h))\n",
    "    assert (b2)\n",
    "    Parameters: {\n",
    "                \"W1\": W1,\n",
    "                \"b1\"\n",
    "    }\n",
    "    "
   ]
  }
 ],
 "metadata": {
  "kernelspec": {
   "display_name": "Python 3",
   "language": "python",
   "name": "python3"
  },
  "language_info": {
   "codemirror_mode": {
    "name": "ipython",
    "version": 3
   },
   "file_extension": ".py",
   "mimetype": "text/x-python",
   "name": "python",
   "nbconvert_exporter": "python",
   "pygments_lexer": "ipython3",
   "version": "3.7.6"
  }
 },
 "nbformat": 4,
 "nbformat_minor": 4
}
