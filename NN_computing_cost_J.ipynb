{
 "cells": [
  {
   "cell_type": "markdown",
   "metadata": {},
   "source": [
    "This function computes the loss function of a single hidden layer NN"
   ]
  },
  {
   "cell_type": "code",
   "execution_count": 1,
   "metadata": {},
   "outputs": [],
   "source": [
    "def compute_cost(A2, Y):\n",
    "    '''\n",
    "    This function computes the cost function J of a single hidden layer NN\n",
    "    \n",
    "    arguments:\n",
    "        A2: output of the second activation function of the shape (1, X.shape[1])\n",
    "        Y: Labels of the training examples \n",
    "    \n",
    "    returns:\n",
    "        cost\n",
    "            \n",
    "    '''\n",
    "    \n",
    "    m = Y.shape[1]\n",
    "    \n",
    "    # Compute cost\n",
    "    logprobs = Y * np.log(A2) + (1 - Y) * np.log(1 - A2)\n",
    "    cost = (-1 / m) * np.sum(logprobs)\n",
    "    \n",
    "    cost = float(np.squeeze(cost))\n",
    "    \n",
    "    assert(isinstance(cost, float))\n",
    "    \n",
    "    return cost\n",
    "\n",
    "    "
   ]
  },
  {
   "cell_type": "code",
   "execution_count": null,
   "metadata": {},
   "outputs": [],
   "source": []
  }
 ],
 "metadata": {
  "kernelspec": {
   "display_name": "Python 3",
   "language": "python",
   "name": "python3"
  },
  "language_info": {
   "codemirror_mode": {
    "name": "ipython",
    "version": 3
   },
   "file_extension": ".py",
   "mimetype": "text/x-python",
   "name": "python",
   "nbconvert_exporter": "python",
   "pygments_lexer": "ipython3",
   "version": "3.7.6"
  }
 },
 "nbformat": 4,
 "nbformat_minor": 4
}
