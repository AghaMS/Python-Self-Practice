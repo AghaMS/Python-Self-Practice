{
 "cells": [
  {
   "cell_type": "markdown",
   "metadata": {},
   "source": [
    "This function handles the back propagation of a single hidden layer NN"
   ]
  },
  {
   "cell_type": "code",
   "execution_count": 1,
   "metadata": {},
   "outputs": [],
   "source": [
    "def back_propagation(Parameters, cache, X, Y):\n",
    "    '''\n",
    "    This function handles back propagation calculations of a single hidden layer NN\n",
    "    \n",
    "    Arguments:\n",
    "        Parameters: Python dictionary containing \"W1\", \"b1\", \"W2\", \"b2\"\n",
    "        cache: Python dictionary containing \"Z1\", \"A1\", \"Z2\", \"A2\"\n",
    "        \n",
    "    returns:\n",
    "        gradients: gradient values of the trained model\n",
    "        \n",
    "    '''\n",
    "    m = Y.shape[1]\n",
    "    \n",
    "    \n",
    "    W1 = Parameters['W1']\n",
    "    W2 = Parameters['W2']\n",
    "    A1 = cache['A1']\n",
    "    A2 = cache['A2']\n",
    "    \n",
    "    dZ2 = A2 - Y\n",
    "    dW2 = (1 / m) * np.dot(dZ2, A1.T)\n",
    "    db2 = (1 / m) * np.sum(dZ2, axis = 1, keepdims = True)\n",
    "    dZ1 = np.dot(W2.T, dZ2) * (1- A1**2)\n",
    "    dW1 = (1 / m) * np.dot(dZ2, X.T)\n",
    "    db1 = (1 / m) * np.sum(dZ1, axis = 1, keepdims = True)\n",
    "    \n",
    "    # Gradients\n",
    "    gradients = { \"dW1\": dW1,\n",
    "                  \"db1\" \n",
    "        \n",
    "    }\n",
    "    "
   ]
  },
  {
   "cell_type": "code",
   "execution_count": null,
   "metadata": {},
   "outputs": [],
   "source": []
  }
 ],
 "metadata": {
  "kernelspec": {
   "display_name": "Python 3",
   "language": "python",
   "name": "python3"
  },
  "language_info": {
   "codemirror_mode": {
    "name": "ipython",
    "version": 3
   },
   "file_extension": ".py",
   "mimetype": "text/x-python",
   "name": "python",
   "nbconvert_exporter": "python",
   "pygments_lexer": "ipython3",
   "version": "3.7.6"
  }
 },
 "nbformat": 4,
 "nbformat_minor": 4
}
