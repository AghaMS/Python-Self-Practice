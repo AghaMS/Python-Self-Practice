{
 "cells": [
  {
   "cell_type": "markdown",
   "metadata": {},
   "source": [
    "This function updates the parameters in a single hidden layer NN"
   ]
  },
  {
   "cell_type": "code",
   "execution_count": null,
   "metadata": {},
   "outputs": [],
   "source": [
    "def update_parameters(Parameters, gradients, learning_rate = 0.5):\n",
    "    '''\n",
    "    This function updates the paramters for a single hidden layer NN using the following gradient descent rule:\n",
    "        param. = param. - (learning_rate * d_param.)\n",
    "    \n",
    "    Arguments:\n",
    "        Parameters: a Python dictionary containing the weights and biases\n",
    "        gradients: a Python dictionary containing the gradients after the back propagation step was performed\n",
    "    \n",
    "    returns:\n",
    "        parameters: Python dictionary with the updated paramters \n",
    "    '''\n",
    "    # Retreive parameters\n",
    "    W1 = Parameters['W1']\n",
    "    b1 = Parameters[\"b1\"]\n",
    "    W2 = Parameters['W2']\n",
    "    b2 = Parameters['b2']\n",
    "    \n",
    "    # Retreive gradients\n",
    "    dW1 = gradients['dW1']\n",
    "    db1 = gradients['db1']\n",
    "    dW2 = gradients['dW2']\n",
    "    db2 = gradients['db2']\n",
    "    \n",
    "    # updated parameters\n",
    "    W1 = W1 - learning_rate * dW1\n",
    "    b1 = b1 - learning_rate * db1\n",
    "    W2 = W2 - learning_rate * dW2\n",
    "    b2 = b2 - learning_rate * db2\n",
    "    \n",
    "    \n",
    "    "
   ]
  }
 ],
 "metadata": {
  "kernelspec": {
   "display_name": "Python 3",
   "language": "python",
   "name": "python3"
  },
  "language_info": {
   "codemirror_mode": {
    "name": "ipython",
    "version": 3
   },
   "file_extension": ".py",
   "mimetype": "text/x-python",
   "name": "python",
   "nbconvert_exporter": "python",
   "pygments_lexer": "ipython3",
   "version": "3.7.6"
  }
 },
 "nbformat": 4,
 "nbformat_minor": 4
}
